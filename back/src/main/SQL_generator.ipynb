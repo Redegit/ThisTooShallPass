{
 "cells": [
  {
   "cell_type": "code",
   "execution_count": 1,
   "id": "dab9bee6",
   "metadata": {},
   "outputs": [],
   "source": [
    "import random\n",
    "import string\n",
    "import datetime\n",
    "import requests\n",
    "import json\n",
    "import bcrypt"
   ]
  },
  {
   "cell_type": "code",
   "execution_count": 2,
   "id": "71653937",
   "metadata": {},
   "outputs": [],
   "source": [
    "doc_N = 50\n",
    "pat_N = 300\n",
    "app_per_patient = 10"
   ]
  },
  {
   "cell_type": "code",
   "execution_count": 3,
   "id": "36e94037",
   "metadata": {},
   "outputs": [],
   "source": [
    "names_male = ['Авдей', 'Авксентий', 'Агапит', 'Агафон', 'Акакий', 'Акиндин', 'Александр', 'Алексей', 'Альберт', 'Альвиан', 'Анатолий', 'Андрей', 'Аникита', 'Антон', 'Антонин', 'Анфим', 'Аристарх', 'Аркадий', 'Арсений', 'Артём', 'Артемий', 'Артур', 'Архипп', 'Афанасий', 'Богдан', 'Борис', 'Вавила', 'Вадим', 'Валентин', 'Валерий', 'Валерьян', 'Варлам', 'Варсонофий', 'Варфоломей', 'Василий', 'Венедикт', 'Вениамин', 'Викентий', 'Виктор', 'Виссарион', 'Виталий', 'Владимир', 'Владислав', 'Владлен', 'Влас', 'Всеволод', 'Вячеслав', 'Гавриил', 'Галактион', 'Геласий', 'Геннадий', 'Георгий', 'Герасим', 'Герман', 'Германн', 'Глеб', 'Гордей', 'Григорий', 'Данакт', 'Даниил', 'Демид', 'Демьян', 'Денис', 'Дмитрий', 'Добрыня', 'Донат', 'Дорофей', 'Евгений', 'Евграф', 'Евдоким', 'Евсей', 'Евстафий', 'Егор', 'Емельян', 'Еремей', 'Ермолай', 'Ерофей', 'Ефим', 'Ефрем', 'Ждан', 'Зиновий', 'Иакинф', 'Иван', 'Игнатий', 'Игорь', 'Изот', 'Илья', 'Иннокентий', 'Ираклий', 'Ириней', 'Исаак', 'Исидор', 'Иуда', 'Иулиан', 'Капитон', 'Ким', 'Кир', 'Кирилл', 'Климент', 'Кондрат', 'Конон', 'Константин', 'Корнилий', 'Кузьма', 'Куприян', 'Лаврентий', 'Лев', 'Леонид', 'Леонтий', 'Логгин', 'Лука', 'Лукий', 'Лукьян', 'Магистриан', 'Макар', 'Максим', 'Мамонт', 'Марк', 'Мартын', 'Матвей', 'Мелентий', 'Мина', 'Мирослав', 'Митрофан', 'Михаил', 'Мстислав', 'Назар', 'Нестор', 'Никандр', 'Никанор', 'Никита', 'Никифор', 'Никодим', 'Николай', 'Никон', 'Олег', 'Онисим', 'Онуфрий', 'Павел', 'Паисий', 'Панкратий', 'Пантелеймон', 'Парфений', 'Пафнутий', 'Пахомий', 'Пётр', 'Платон', 'Поликарп', 'Порфирий', 'Потап', 'Пров', 'Прокопий', 'Протасий', 'Прохор', 'Разумник', 'Родион', 'Родослав', 'Роман', 'Ростислав', 'Руслан', 'Савва', 'Савелий', 'Самуил', 'Святополк', 'Святослав', 'Севастьян', 'Семён', 'Серафим', 'Сергей', 'Сила', 'Сильвестр', 'Созон', 'Софрон', 'Спиридон', 'Станислав', 'Степан', 'Тарас', 'Тимофей', 'Тимур', 'Тит', 'Тихон', 'Трифон', 'Трофим', 'Урбан', 'Фаддей', 'Фёдор', 'Федосей', 'Федот', 'Феликс', 'Феоктист', 'Филат', 'Филимон', 'Филипп', 'Фирс', 'Фока', 'Фома', 'Фотий', 'Фрол', 'Харитон', 'Хрисанф', 'Христофор', 'Эдуард', 'Эраст', 'Юлиан', 'Юрий', 'Юстин', 'Яков', 'Якун', 'Ярослав']"
   ]
  },
  {
   "cell_type": "code",
   "execution_count": 4,
   "id": "063087d7",
   "metadata": {},
   "outputs": [],
   "source": [
    "names_female = ['Агафья', 'Аглая', 'Агния', 'Агриппина', 'Аза', 'Акулина', 'Алевтина', 'Александра', 'Алина', 'Алиса', 'Алла', 'Анастасия', 'Ангелина', 'Анжела', 'Анжелика', 'Анна', 'Антонина', 'Анфиса', 'Валентина', 'Валерия', 'Варвара', 'Василиса', 'Вера', 'Вероника', 'Виктория', 'Владимира', 'Галина', 'Глафира', 'Гликерия', 'Дана', 'Дарья', 'Евгения', 'Евдокия', 'Евлалия', 'Евлампия', 'Евпраксия', 'Евфросиния', 'Екатерина', 'Елена', 'Елизавета', 'Епистима', 'Ермиония', 'Жанна', 'Зинаида', 'Злата', 'Зоя', 'Инга', 'Инесса', 'Инна', 'Иоанна', 'Ираида', 'Ирина', 'Ия', 'Капитолина', 'Карина', 'Каролина', 'Кира', 'Клавдия', 'Ксения', 'Лада', 'Лариса', 'Лидия', 'Лилия', 'Любовь', 'Людмила', 'Маргарита', 'Марина', 'Мария', 'Марфа', 'Матрёна', 'Милица', 'Мирослава', 'Надежда', 'Наталья', 'Нина', 'Нонна', 'Оксана', 'Октябрина', 'Олимпиада', 'Ольга', 'Павлина', 'Пелагея', 'Пинна', 'Полина', 'Прасковья', 'Рада', 'Раиса', 'Регина', 'Римма', 'Рогнеда', 'Руслана', 'Светлана', 'Серафима', 'Снежана', 'София', 'Сусанна', 'Таисия', 'Тамара', 'Татьяна', 'Улита', 'Ульяна', 'Урсула', 'Фаина', 'Феврония', 'Фёкла', 'Феодора', 'Целестина', 'Юлия', 'Яна', 'Ярослава']"
   ]
  },
  {
   "cell_type": "code",
   "execution_count": 5,
   "id": "0df8a4a8",
   "metadata": {},
   "outputs": [],
   "source": [
    "surnames_male = ['Абрамов', 'Акимов', 'Аксенов', 'Александров', 'Алексеев', 'Андреев', 'Анисимов', 'Антонов', 'Архипов', 'Афанасьев', 'Балашов', 'Баранов', 'Белов', 'Белоусов', 'Беляев', 'Беляков', 'Бирюков', 'Блинов', 'Бобров', 'Богданов', 'Богомолов', 'Борисов', 'Бородин', 'Быков', 'Васильев', 'Виноградов', 'Власов', 'Волков', 'Воробьев', 'Воронин', 'Воронов', 'Гаврилов', 'Галкин', 'Герасимов', 'Голубев', 'Гончаров', 'Горбунов', 'Горшков', 'Грачев', 'Григорьев', 'Гришин', 'Громов', 'Гусев', 'Давыдов', 'Данилов', 'Дементьев', 'Демидов', 'Демин', 'Денисов', 'Дмитриев', 'Дроздов', 'Евдокимов', 'Егоров', 'Елисеев', 'Емельянов', 'Еремин', 'Ермаков', 'Ершов', 'Ефимов', 'Ефремов', 'Жданов', 'Жуков', 'Журавлев', 'Зайцев', 'Захаров', 'Зотов', 'Зуев', 'Иванов', 'Игнатов', 'Игнатьев', 'Ильин', 'Исаев', 'Казаков', 'Калашников', 'Калинин', 'Карпов', 'Кириллов', 'Киселев', 'Климов', 'Князев', 'Ковалев', 'Козлов', 'Колесников', 'Комаров', 'Кондратьев', 'Коновалов', 'Константинов', 'Корнеев', 'Королев', 'Коротков', 'Котов', 'Краснов', 'Крылов', 'Крюков', 'Кудрявцев', 'Кузин', 'Кузнецов', 'Кузьмин', 'Куликов', 'Лавров', 'Лазарев', 'Ларин', 'Лебедев', 'Левин', 'Леонов', 'Леонтьев', 'Литвинов', 'Лобанов', 'Логинов', 'Лукьянов', 'Майоров', 'Макаров', 'Максимов', 'Малышев', 'Мальцев', 'Марков', 'Мартынов', 'Маслов', 'Матвеев', 'Медведев', 'Мельников', 'Миронов', 'Митрофанов', 'Михайлов', 'Михеев', 'Моисеев', 'Молчанов', 'Морозов', 'Муравьев', 'Мухин', 'Назаров', 'Наумов', 'Некрасов', 'Нестеров', 'Никитин', 'Никифоров', 'Николаев', 'Никулин', 'Новиков', 'Овчинников', 'Орлов', 'Осипов', 'Павлов', 'Панов', 'Петров', 'Петухов', 'Платонов', 'Плотников', 'Поляков', 'Пономарев', 'Попов', 'Потапов', 'Прокофьев', 'Прохоров', 'Родионов', 'Романов', 'Румянцев', 'Рыбаков', 'Рябов', 'Савельев', 'Савин', 'Самойлов', 'Сафонов', 'Сахаров', 'Семенов', 'Сергеев', 'Серов', 'Сидоров', 'Симонов', 'Скворцов', 'Смирнов', 'Соболев', 'Соколов', 'Соловьев', 'Сорокин', 'Софронов', 'Степанов', 'Тарасов', 'Терентьев', 'Тимофеев', 'Титов', 'Тихомиров', 'Тихонов', 'Трофимов', 'Устинов', 'Ушаков', 'Фадеев', 'Федоров', 'Федотов', 'Филатов', 'Филиппов', 'Фокин', 'Фомин', 'Фролов', 'Харитонов', 'Цветков', 'Чернов', 'Чернышев', 'Шишкин', 'Щербаков', 'Юдин', 'Яковлев']"
   ]
  },
  {
   "cell_type": "code",
   "execution_count": 6,
   "id": "a3f0140e",
   "metadata": {},
   "outputs": [],
   "source": [
    "surnames_female = ['Абрамова', 'Акимова', 'Аксенова', 'Александрова', 'Алексеева', 'Андреева', 'Анисимова', 'Антонова', 'Архипова', 'Афанасьева', 'Балашова', 'Баранова', 'Белова', 'Белоусова', 'Беляева', 'Белякова', 'Бирюкова', 'Блинова', 'Боброва', 'Богданова', 'Богомолова', 'Борисова', 'Бородина', 'Быкова', 'Васильева', 'Виноградова', 'Власова', 'Волкова', 'Воробьева', 'Воронина', 'Воронова', 'Гаврилова', 'Галкина', 'Герасимова', 'Голубева', 'Гончарова', 'Горбунова', 'Горшкова', 'Грачева', 'Григорьева', 'Гришина', 'Громова', 'Гусева', 'Давыдова', 'Данилова', 'Дементьева', 'Демидова', 'Демина', 'Денисова', 'Дмитриева', 'Дроздова', 'Евдокимова', 'Егорова', 'Елисеева', 'Емельянова', 'Еремина', 'Ермакова', 'Ершова', 'Ефимова', 'Ефремова', 'Жданова', 'Жукова', 'Журавлева', 'Зайцева', 'Захарова', 'Зотова', 'Зуева', 'Иванова', 'Игнатова', 'Игнатьева', 'Ильина', 'Исаева', 'Казакова', 'Калашникова', 'Калинина', 'Карпова', 'Кириллова', 'Киселева', 'Климова', 'Князева', 'Ковалева', 'Козлова', 'Колесникова', 'Комарова', 'Кондратьева', 'Коновалова', 'Константинова', 'Корнеева', 'Королева', 'Короткова', 'Котова', 'Краснова', 'Крылова', 'Крюкова', 'Кудрявцева', 'Кузина', 'Кузнецова', 'Кузьмина', 'Куликова', 'Лаврова', 'Лазарева', 'Ларина', 'Лебедева', 'Левина', 'Леонова', 'Леонтьева', 'Литвинова', 'Лобанова', 'Логинова', 'Лукьянова', 'Майорова', 'Макарова', 'Максимова', 'Малышева', 'Мальцева', 'Маркова', 'Мартынова', 'Маслова', 'Матвеева', 'Медведева', 'Мельникова', 'Миронова', 'Митрофанова', 'Михайлова', 'Михеева', 'Моисеева', 'Молчанова', 'Морозова', 'Муравьева', 'Мухина', 'Назарова', 'Наумова', 'Некрасова', 'Нестерова', 'Никитина', 'Никифорова', 'Николаева', 'Никулина', 'Новикова', 'Овчинникова', 'Орлова', 'Осипова', 'Павлова', 'Панова', 'Петрова', 'Петухова', 'Платонова', 'Плотникова', 'Полякова', 'Пономарева', 'Попова', 'Потапова', 'Прокофьева', 'Прохорова', 'Родионова', 'Романова', 'Румянцева', 'Рыбакова', 'Рябова', 'Савельева', 'Савина', 'Самойлова', 'Сафонова', 'Сахарова', 'Семенова', 'Сергеева', 'Серова', 'Сидорова', 'Симонова', 'Скворцова', 'Смирнова', 'Соболева', 'Соколова', 'Соловьева', 'Сорокина', 'Софронова', 'Степанова', 'Тарасова', 'Терентьева', 'Тимофеева', 'Титова', 'Тихомирова', 'Тихонова', 'Трофимова', 'Устинова', 'Ушакова', 'Фадеева', 'Федорова', 'Федотова', 'Филатова', 'Филиппова', 'Фокина', 'Фомина', 'Фролова', 'Харитонова', 'Цветкова', 'Чернова', 'Чернышева', 'Шишкина', 'Щербакова', 'Юдина', 'Яковлева']"
   ]
  },
  {
   "cell_type": "code",
   "execution_count": 7,
   "id": "f50a51c4",
   "metadata": {},
   "outputs": [],
   "source": [
    "patronymics_male = ['Александрович', 'Алексеевич', 'Анатольевич', 'Андреевич', 'Антонович', 'Аркадьевич', 'Артемович', 'Бедросович', 'Богданович', 'Борисович', 'Валентинович', 'Валерьевич', 'Васильевич', 'Викторович', 'Витальевич', 'Владимирович', 'Владиславович', 'Вольфович', 'Вячеславович', 'Геннадиевич', 'Георгиевич', 'Григорьевич', 'Данилович', 'Денисович', 'Дмитриевич', 'Евгеньевич', 'Егорович', 'Ефимович', 'Иванович', 'Иваныч', 'Игнатьевич', 'Игоревич', 'Ильич', 'Иосифович', 'Исаакович', 'Кириллович', 'Константинович', 'Леонидович', 'Львович', 'Максимович', 'Матвеевич', 'Михайлович', 'Николаевич', 'Олегович', 'Павлович', 'Палыч', 'Петрович', 'Платонович', 'Робертович', 'Романович', 'Саныч', 'Северинович', 'Семенович', 'Сергеевич', 'Станиславович', 'Степанович', 'Тарасович', 'Тимофеевич', 'Федорович', 'Феликсович', 'Филиппович', 'Эдуардович', 'Юрьевич', 'Яковлевич', 'Ярославович']"
   ]
  },
  {
   "cell_type": "code",
   "execution_count": 8,
   "id": "1870ff06",
   "metadata": {},
   "outputs": [],
   "source": [
    "patronymics_female = ['Александровна', 'Алексеевна', 'Анатольевна', 'Андреевна', 'Антоновна', 'Аркадьевна', 'Артемовна', 'Богдановна', 'Борисовна', 'Валентиновна', 'Валерьевна', 'Васильевна', 'Викторовна', 'Виталиевна', 'Владимировна', 'Владиславовна', 'Вячеславовна', 'Геннадиевна', 'Георгиевна', 'Григорьевна', 'Даниловна', 'Денисовна', 'Дмитриевна', 'Евгеньевна', 'Егоровна', 'Ефимовна', 'Ивановна', 'Игоревна', 'Ильинична', 'Иосифовна', 'Кирилловна', 'Константиновна', 'Леонидовна', 'Львовна', 'Максимовна', 'Матвеевна', 'Михайловна', 'Николаевна', 'Олеговна', 'Павловна', 'Петровна', 'Платоновна', 'Робертовна', 'Романовна', 'Семёновна', 'Сергеевна', 'Станиславовна', 'Степановна', 'Тарасовна', 'Тимофеевна', 'Федоровна', 'Феликсовна', 'Филипповна', 'Эдуардовна', 'Юрьевна', 'Яковлевна', 'Ярославовна']"
   ]
  },
  {
   "cell_type": "code",
   "execution_count": 9,
   "id": "938db681",
   "metadata": {},
   "outputs": [],
   "source": [
    "specializations = {\n",
    "    \"Кардиология\": ['ЭКГ', 'Эхокардиография', 'Стресс-тестирование', 'Коронарография', 'МРТ сердца'],\n",
    "    \"Неврология\": ['ЭЭГ', 'МРТ головного мозга', 'Компьютерная томография головного мозга', 'Ликворная диагностика', 'Эвокационные потенциалы'],\n",
    "    \"Онкология\": ['Биопсия опухоли', 'УЗИ органов брюшной полости', 'КТ органов грудной полости', 'МРТ органов малого таза', 'ПЭТ-КТ'],\n",
    "    \"Офтальмология\": ['Проверка зрения', 'Биомикроскопия глаза', 'Офтальмоскопия', 'Периметрия', 'Тонометрия'],\n",
    "    \"Гастроэнтерология\": ['Фиброгастроскопия', 'Фиброколоноскопия', 'Колоноскопия', 'УЗИ брюшной полости', 'Ирригоскопия'],\n",
    "    \"Гинекология\": ['УЗИ малого таза', 'Маммография', 'Пап-тест', 'Кольпоскопия', 'Гистероскопия'],\n",
    "    \"Дерматология\": ['Дерматоскопия', 'Биопсия кожи', 'Аллерготестирование', 'Эксцизия новообразований', 'Измерение влажности кожи'],\n",
    "    \"Эндокринология\": ['Анализы на гормоны', 'УЗИ щитовидной железы', 'МРТ гипофиза', 'Радиоизотопное сканирование щитовидной железы', 'Денситометрия'],\n",
    "    \"Педиатрия\": ['Общий анализ крови', 'УЗИ внутренних органов', 'Анализы на витамины', 'Анализ кала на яйца гельминтов', 'Аллерготестирование'],\n",
    "    \"Травматология\": ['Рентген', 'Компьютерная томография', 'Магнитно-резонансная томография', 'Денситометрия', 'УЗИ суставов'],\n",
    "    \"Урология\": ['УЗИ почек', 'Цистоскопия', 'Урография', 'Компьютерная томография малого таза', 'МРТ мочевого пузыря'],\n",
    "    \"Аллергология\": ['Кожные пробы на аллергены', 'Анализы на иммуноглобулин Е', 'Ингаляционные пробы', 'Пробы на пищевые аллергены', 'Пробы на медикаментозные аллергены'],\n",
    "    'Психиатрия': ['Клиническое интервью', 'Опросники и анкеты', 'Психологические тесты', 'Психоанализ', 'Поведенческая терапия', 'Когнитивная терапия', 'Психосоциальная реабилитация'],\n",
    "    'Ревматология': ['Маркеры воспаления', 'Анализы суставной жидкости', 'Магнитно-резонансная томография', 'Ультразвуковое исследование', 'Остеоденситометрия', 'Электронейромиография', 'Сцинтиграфия', 'Биопсия суставов'],\n",
    "    'Инфекционные болезни': ['Бактериологический исследование', 'Вирусологическое исследование', 'Иммунологическое исследование', 'Серологическое исследование', 'Магнитно-резонансная томография']\n",
    "}"
   ]
  },
  {
   "cell_type": "code",
   "execution_count": 10,
   "id": "0f5ca18c",
   "metadata": {},
   "outputs": [],
   "source": [
    "class Patient:\n",
    "    patient_list = []\n",
    "    \n",
    "    def __init__(self):\n",
    "        self.id = None\n",
    "        self.first_name = None\n",
    "        self.last_name = None\n",
    "        self.patronymic = None\n",
    "        self.gender = None\n",
    "        self.birth_date = None\n",
    "        self.address = None\n",
    "        self.phone_number = None\n",
    "        self.email = None\n",
    "        self.password = None\n",
    "        Patient.patient_list.append(self)\n",
    "    \n",
    "    def __str__(self):\n",
    "        return f\"{self.id}, {self.first_name}, {self.last_name}, {self.patronymic}, {self.gender}, {self.birth_date}, {self.address}, {self.phone_number}, {self.email}, {self.password}\"\n",
    "\n",
    "\n",
    "class Doctor:\n",
    "    doctor_list = []\n",
    "    \n",
    "    def __init__(self):\n",
    "        self.id = None\n",
    "        self.first_name = None\n",
    "        self.last_name = None\n",
    "        self.patronymic = None\n",
    "        self.specialization = None\n",
    "        self.phone_number = None\n",
    "        self.email = None\n",
    "        Doctor.doctor_list.append(self)\n",
    "        \n",
    "    def __str__(self):\n",
    "        return f\"{self.id}, {self.first_name}, {self.last_name}, {self.patronymic}, {self.specialization}, {self.phone_number}, {self.email}, {self.password}\"\n",
    "\n",
    "        \n",
    "class Appointment:\n",
    "    appointment_list = []\n",
    "    \n",
    "    def __init__(self):\n",
    "        self.id = None\n",
    "        self.patient_id = None\n",
    "        self.doctor_id = None\n",
    "        self.datetime = None\n",
    "        self.service_id = None\n",
    "        Appointment.appointment_list.append(self)\n",
    "        \n",
    "    def __str__(self):\n",
    "        return f\"{self.id}, {self.patient_id}, {self.doctor_id}, {self.datetime}, {self.service_id}\"\n",
    "\n",
    "        \n",
    "class Service:\n",
    "    service_list = []\n",
    "    \n",
    "    def __init__(self):\n",
    "        self.id = None\n",
    "        self.name = None\n",
    "        self.cost = None\n",
    "        self.specialization = None\n",
    "        Service.service_list.append(self)\n",
    "        \n",
    "    def __str__(self):\n",
    "        return f\"{self.id}, {self.name}, {self.description}, {self.cost}, {self.specialization}\""
   ]
  },
  {
   "cell_type": "code",
   "execution_count": 11,
   "id": "8fb8f083",
   "metadata": {},
   "outputs": [],
   "source": [
    "# Функция-генератор номеров телефонов\n",
    "phone_list = []\n",
    "def phone_gen():\n",
    "    while True:\n",
    "        phone_number = \"+79\"\n",
    "        for i in range(9):\n",
    "            phone_number += str(random.randint(0, 9))\n",
    "        if phone_number not in phone_list:   \n",
    "            phone_list.append(phone_number)\n",
    "            return phone_number"
   ]
  },
  {
   "cell_type": "code",
   "execution_count": 12,
   "id": "aa98c01c",
   "metadata": {},
   "outputs": [],
   "source": [
    "# Функция-генератор почтовых адресов\n",
    "email_list = []\n",
    "def email_gen():\n",
    "    while True:\n",
    "        username = ''.join(random.choice(string.ascii_lowercase) for _ in range(random.randint(5, 10)))\n",
    "        domain = random.choice(['gmail.com', 'ya.ru', 'mail.ru'])\n",
    "        email = f\"{username}@{domain}\"\n",
    "        if email not in email_list:   \n",
    "            email_list.append(email)\n",
    "            return email"
   ]
  },
  {
   "cell_type": "code",
   "execution_count": 13,
   "id": "e658b204",
   "metadata": {},
   "outputs": [],
   "source": [
    "# Функция-генератор паролей, для теста пароль сделан одинковый для всех - \"qwertyuiop\"\n",
    "# Пароль шифруется при помощи BCrypt \n",
    "def password_gen():\n",
    "    password = bcrypt.hashpw(b\"qwertyuiop\", bcrypt.gensalt()).decode('utf-8')\n",
    "    \n",
    "    return password"
   ]
  },
  {
   "cell_type": "code",
   "execution_count": 14,
   "id": "7a0446ec",
   "metadata": {},
   "outputs": [],
   "source": [
    "# Функция-генератор даты рождения\n",
    "def birthDate_gen():\n",
    "    start_date = datetime.date(1940, 1, 1)\n",
    "    end_date = datetime.date.today()\n",
    "    time_between_dates = end_date - start_date\n",
    "    days_between_dates = time_between_dates.days\n",
    "    random_number_of_days = random.randrange(days_between_dates)\n",
    "    random_date = start_date + datetime.timedelta(days=random_number_of_days)\n",
    "    return random_date"
   ]
  },
  {
   "cell_type": "code",
   "execution_count": 15,
   "id": "91435114",
   "metadata": {},
   "outputs": [],
   "source": [
    "# Функция-генератор даты-времени для приема у врача\n",
    "def datetime_gen():\n",
    "    start_date = datetime.date(2020, 1, 1)\n",
    "    end_date = datetime.date.today()\n",
    "    time = datetime.time(random.randint(0, 23), random.randint(0, 59), 0)\n",
    "    random_date = datetime.date.fromordinal(random.randint(start_date.toordinal(), end_date.toordinal()))\n",
    "    return datetime.datetime.combine(random_date, time)"
   ]
  },
  {
   "cell_type": "code",
   "execution_count": 16,
   "id": "04f35898",
   "metadata": {},
   "outputs": [],
   "source": [
    "# Функция-генератор адресов Москвы\n",
    "moscow_streets = ['Арбат', 'Тверская', 'Пресненская набережная', 'Садовое кольцо', 'Новый Арбат', 'Кутузовский проспект', 'Профсоюзная', 'Ленинский проспект', 'Варшавское шоссе',                   'Ленинградский проспект', 'Каширское шоссе', 'Ходынский бульвар', 'Рублевское шоссе',                   'Большая Дмитровка', 'Большой Козихинский переулок', 'Малый Козихинский переулок',                   'Пятницкая', 'Улица Сущевского', '1-й Тверской-Ямской переулок', 'Большой Черкасский переулок']\n",
    "def address_gen():\n",
    "    return \"Москва, \" + random.choice(moscow_streets) + \", д. \" + str(random.randint(1, 20)) + \", кв. \" + str(random.randint(1, 50))"
   ]
  },
  {
   "cell_type": "markdown",
   "id": "8b19be40",
   "metadata": {},
   "source": [
    "Генерация"
   ]
  },
  {
   "cell_type": "code",
   "execution_count": 17,
   "id": "346f83bc",
   "metadata": {},
   "outputs": [],
   "source": [
    "# Все сервисы\n",
    "ser_id = 1\n",
    "for k, v in specializations.items():\n",
    "    for name in v:\n",
    "        service = Service()\n",
    "        service.id = ser_id\n",
    "        service.name = name\n",
    "        service.specialization = k\n",
    "        service.cost = round(random.randint(1000, 10000), -2)\n",
    "        \n",
    "        ser_id += 1"
   ]
  },
  {
   "cell_type": "code",
   "execution_count": 18,
   "id": "854432ba",
   "metadata": {},
   "outputs": [],
   "source": [
    "# Врачи\n",
    "for i in range(1, doc_N+1):\n",
    "    doctor = Doctor()\n",
    "    gender = random.choice([\"male\", \"female\"])\n",
    "    doctor.id = i\n",
    "    if gender == \"male\":\n",
    "        doctor.first_name = random.choice(names_male)\n",
    "        doctor.last_name = random.choice(surnames_male)\n",
    "        doctor.patronymic = random.choice(patronymics_male)\n",
    "    else:\n",
    "        doctor.first_name = random.choice(names_female)\n",
    "        doctor.last_name = random.choice(surnames_female)\n",
    "        doctor.patronymic = random.choice(patronymics_female)\n",
    "    doctor.specialization = random.choice(list(specializations.keys()))\n",
    "    doctor.phone_number = phone_gen()\n",
    "    doctor.email = email_gen()"
   ]
  },
  {
   "cell_type": "code",
   "execution_count": 19,
   "id": "90ca3629",
   "metadata": {},
   "outputs": [],
   "source": [
    "# Пациенты\n",
    "for i in range(1, pat_N+1):\n",
    "    patient = Patient()\n",
    "    gender = random.choice([\"М\", \"Ж\"])\n",
    "    patient.id = i\n",
    "    patient.gender = gender\n",
    "    if gender == \"М\":\n",
    "        patient.first_name = random.choice(names_male)\n",
    "        patient.last_name = random.choice(surnames_male)\n",
    "        patient.patronymic = random.choice(patronymics_male)\n",
    "    else:\n",
    "        patient.first_name = random.choice(names_female)\n",
    "        patient.last_name = random.choice(surnames_female)\n",
    "        patient.patronymic = random.choice(patronymics_female)\n",
    "    patient.phone_number = phone_gen()\n",
    "    patient.address = address_gen()\n",
    "    patient.email = email_gen()\n",
    "    patient.password = password_gen()\n",
    "    patient.birth_date = birthDate_gen()"
   ]
  },
  {
   "cell_type": "code",
   "execution_count": 20,
   "id": "b427044a",
   "metadata": {},
   "outputs": [],
   "source": [
    "# Appointments\n",
    "app_id = 1\n",
    "for patient in Patient.patient_list:\n",
    "    for i in range(app_per_patient):\n",
    "        appointment = Appointment()\n",
    "        appointment.id = app_id\n",
    "        appointment.patient_id = patient.id\n",
    "        appointment.datetime = datetime_gen()\n",
    "        \n",
    "        doctor = random.choice(Doctor.doctor_list)\n",
    "        specialization = doctor.specialization\n",
    "        \n",
    "        appointment.doctor_id = doctor.id\n",
    "        \n",
    "        service = random.choice(list(filter(lambda service: service.name in specializations[specialization], Service.service_list)))\n",
    "        \n",
    "        appointment.service_id = service.id\n",
    "        \n",
    "        app_id += 1"
   ]
  },
  {
   "cell_type": "markdown",
   "id": "bde1c4a4",
   "metadata": {},
   "source": [
    "Создание SQL"
   ]
  },
  {
   "cell_type": "code",
   "execution_count": 21,
   "id": "a8fbcf2a",
   "metadata": {},
   "outputs": [],
   "source": [
    "patient_values = \"\"\n",
    "for patient in Patient.patient_list:\n",
    "    patient_values += f\"('{patient.first_name}', '{patient.last_name}', '{patient.gender}', '{patient.birth_date}', '{patient.address}', '{patient.phone_number}', '{patient.email}', '{patient.patronymic}', '{patient.password}'),\\n\""
   ]
  },
  {
   "cell_type": "code",
   "execution_count": 22,
   "id": "ac9077c0",
   "metadata": {},
   "outputs": [],
   "source": [
    "doctor_values = \"\"\n",
    "for doctor in Doctor.doctor_list:\n",
    "    doctor_values += f\"('{doctor.first_name}', '{doctor.last_name}', '{doctor.specialization}', '{doctor.phone_number}', '{doctor.email}', '{doctor.patronymic}'),\\n\""
   ]
  },
  {
   "cell_type": "code",
   "execution_count": 23,
   "id": "cca45d6a",
   "metadata": {},
   "outputs": [],
   "source": [
    "service_values = \"\"\n",
    "for service in Service.service_list:\n",
    "    service_values += f\"('{service.name}', '{service.cost}', '{service.specialization}'),\\n\""
   ]
  },
  {
   "cell_type": "code",
   "execution_count": 24,
   "id": "578b6f85",
   "metadata": {},
   "outputs": [],
   "source": [
    "appointment_values = \"\"\n",
    "for appointment in Appointment.appointment_list:\n",
    "    appointment_values += f\"('{appointment.patient_id}', '{appointment.doctor_id}', '{appointment.datetime}', '{appointment.service_id}'),\\n\""
   ]
  },
  {
   "cell_type": "code",
   "execution_count": 25,
   "id": "b945f35d",
   "metadata": {},
   "outputs": [],
   "source": [
    "SQL = f\"\"\"\n",
    "DELETE FROM appointment;\n",
    "DELETE FROM service;\n",
    "DELETE FROM doctor;\n",
    "DELETE FROM patient;\n",
    "\n",
    "SELECT SETVAL('doctors_id_seq', 0);\n",
    "SELECT SETVAL('patients_id_seq', 0);\n",
    "SELECT SETVAL('appointments_id_seq', 0);\n",
    "SELECT SETVAL('services_id_seq', 0);\n",
    "\n",
    "INSERT INTO \n",
    "patient (first_name, last_name, gender, birth_date, address, phone_number, email, patronymic, password) \n",
    "VALUES {patient_values[:-2]};\n",
    "\n",
    "INSERT INTO \n",
    "doctor (first_name, last_name, specialization, phone_number, email, patronymic) \n",
    "VALUES {doctor_values[:-2]};\n",
    "\n",
    "INSERT INTO service (name, cost, specialization) \n",
    "VALUES {service_values[:-2]};\n",
    "\n",
    "INSERT INTO appointment (patient_id, doctor_id, datetime, service_id) \n",
    "VALUES {appointment_values[:-2]};\n",
    "\"\"\""
   ]
  },
  {
   "cell_type": "code",
   "execution_count": 26,
   "id": "15f56adf",
   "metadata": {},
   "outputs": [],
   "source": [
    "f = open(\"data.sql\", mode=\"w\", encoding=\"utf-8\")\n",
    "f.write(SQL)\n",
    "f.close()"
   ]
  }
 ],
 "metadata": {
  "kernelspec": {
   "display_name": "Python 3 (ipykernel)",
   "language": "python",
   "name": "python3"
  },
  "language_info": {
   "codemirror_mode": {
    "name": "ipython",
    "version": 3
   },
   "file_extension": ".py",
   "mimetype": "text/x-python",
   "name": "python",
   "nbconvert_exporter": "python",
   "pygments_lexer": "ipython3",
   "version": "3.10.9"
  },
  "toc": {
   "base_numbering": 1,
   "nav_menu": {},
   "number_sections": false,
   "sideBar": false,
   "skip_h1_title": true,
   "title_cell": "Содержание",
   "title_sidebar": "Contents",
   "toc_cell": true,
   "toc_position": {},
   "toc_section_display": true,
   "toc_window_display": false
  }
 },
 "nbformat": 4,
 "nbformat_minor": 5
}
